{
 "cells": [
  {
   "cell_type": "code",
   "execution_count": 2,
   "id": "ee6eb7b3",
   "metadata": {},
   "outputs": [],
   "source": [
    "import pandas as pd\n",
    "import geopandas as gpd\n",
    "import matplotlib.pyplot as plt\n",
    "import seaborn as sns\n",
    "import numpy as np\n",
    "\n",
    "### Import the created function\n",
    "from src.utils import merge_metadata_data"
   ]
  },
  {
   "cell_type": "code",
   "execution_count": 3,
   "id": "6aab74d0",
   "metadata": {},
   "outputs": [],
   "source": [
    "path_metadata = \"/mnt/d/desktop/COPERNICUS/Classes/3-semester/ml/species/output/train_metadata.parquet\"\n",
    "path_data = \"/mnt/d/desktop/COPERNICUS/Classes/3-semester/ml/species/output/train_join.parquet\""
   ]
  },
  {
   "cell_type": "code",
   "execution_count": null,
   "id": "e3e683ac",
   "metadata": {},
   "outputs": [],
   "source": [
    "## Create the whole df\n",
    "df = merge_metadata_data(path_metadata,path_data)\n",
    "\n",
    "## Drop non feature columns but preserve the df to map easily\n",
    "## since the order to the X index is the same order of the df.\n",
    "columns_to_drop = ['surveyId', 'lon', 'lat', 'year', 'geoUncertaintyInM', 'areaInM2',\n",
    "                    'region', 'country', 'speciesId']\n",
    "\n",
    "X = df.drop(columns=columns_to_drop)"
   ]
  }
 ],
 "metadata": {
  "kernelspec": {
   "display_name": "species",
   "language": "python",
   "name": "python3"
  },
  "language_info": {
   "codemirror_mode": {
    "name": "ipython",
    "version": 3
   },
   "file_extension": ".py",
   "mimetype": "text/x-python",
   "name": "python",
   "nbconvert_exporter": "python",
   "pygments_lexer": "ipython3",
   "version": "3.13.7"
  }
 },
 "nbformat": 4,
 "nbformat_minor": 5
}
